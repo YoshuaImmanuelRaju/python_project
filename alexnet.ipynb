{
 "cells": [
  {
   "cell_type": "code",
   "execution_count": 3,
   "metadata": {},
   "outputs": [],
   "source": [
    "import tensorflow as tf\n",
    "from keras import layers, models\n",
    "\n",
    "def create_alex_model(input_shape=(227,227,1), num_classes=10):\n",
    "    model = models.Sequential()\n",
    "\n",
    "    #Layer 1\n",
    "    model.add(layers.Conv2D(96, (11, 11), strides=4, padding='same', activation='relu', input_shape=input_shape))\n",
    "    model.add(layers.MaxPooling2D((3, 3), strides=2))\n",
    "\n",
    "    #Layer 2\n",
    "    model.add(layers.Conv2D(256, (5, 5), padding='same', activation='relu'))\n",
    "    model.add(layers.MaxPooling2D((3, 3), strides=2))\n",
    "\n",
    "    #Layer 3\n",
    "    model.add(layers.Conv2D(384, (3, 3), padding='same', activation='relu'))\n",
    "\n",
    "    #Layer 4\n",
    "    model.add(layers.Conv2D(384, ()))"
   ]
  }
 ],
 "metadata": {
  "kernelspec": {
   "display_name": "Python 3",
   "language": "python",
   "name": "python3"
  },
  "language_info": {
   "codemirror_mode": {
    "name": "ipython",
    "version": 3
   },
   "file_extension": ".py",
   "mimetype": "text/x-python",
   "name": "python",
   "nbconvert_exporter": "python",
   "pygments_lexer": "ipython3",
   "version": "3.12.8"
  }
 },
 "nbformat": 4,
 "nbformat_minor": 2
}
